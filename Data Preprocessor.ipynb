{
 "cells": [
  {
   "cell_type": "code",
   "execution_count": 1,
   "metadata": {},
   "outputs": [],
   "source": [
    "import datetime\n",
    "import pandas as pd"
   ]
  },
  {
   "cell_type": "code",
   "execution_count": 2,
   "metadata": {},
   "outputs": [],
   "source": [
    "# Preprocess dataset 515minutes\n",
    "content_polluters_tweets_df = pd.read_csv('../Data/Dataset/social_honeypot_icwsm_2011/content_polluters_tweets.txt', sep=\"\\t\", header=None)\n",
    "content_polluters_tweets_df.columns = [\"UserID\", \"TweetID\", \"Tweet\", \"CreatedAt\"]\n",
    "content_polluters_tweets_df['Spam']=True\n",
    "content_polluters_tweets_df = content_polluters_tweets_df[content_polluters_tweets_df['Tweet'].notna()]\n",
    "\n",
    "content_polluters_df = pd.read_csv('../Data/Dataset/social_honeypot_icwsm_2011/content_polluters.txt', sep=\"\\t\", header=None)\n",
    "content_polluters_df.columns = [\"UserID\", \"UserCreatedAt\", \"CollectedAt\", \"NumberOfFollowings\", \"NumberOfFollowers\", \"NumberOfTweets\", \"LengthOfScreenName\", \"LengthOfDescriptionInUserProfile\"]\n",
    "content_polluters_df = content_polluters_df.drop(['CollectedAt'], axis=1)\n",
    "\n",
    "content_polluters_tweets_df = pd.merge(content_polluters_tweets_df, content_polluters_df, on=['UserID'])\n",
    "content_polluters_tweets_df['TimeDelta(Days)'] = None\n",
    "\n",
    "legitimate_users_tweets_df = pd.read_csv('../Data/Dataset/social_honeypot_icwsm_2011/legitimate_users_tweets.txt', sep=\"\\t\", header=None)\n",
    "legitimate_users_tweets_df.columns = [\"UserID\", \"TweetID\", \"Tweet\", \"CreatedAt\"]\n",
    "legitimate_users_tweets_df['Spam']=False\n",
    "legitimate_users_tweets_df = legitimate_users_tweets_df[legitimate_users_tweets_df['Tweet'].notna()]\n",
    "\n",
    "legitimate_users_df = pd.read_csv('../Data/Dataset/social_honeypot_icwsm_2011/content_polluters.txt', sep=\"\\t\", header=None)\n",
    "legitimate_users_df.columns = [\"UserID\", \"UserCreatedAt\", \"CollectedAt\", \"NumberOfFollowings\", \"NumberOfFollowers\", \"NumberOfTweets\", \"LengthOfScreenName\", \"LengthOfDescriptionInUserProfile\"]\n",
    "legitimate_users_df = legitimate_users_df.drop(['CollectedAt'], axis=1)\n",
    "\n",
    "legitimate_users_tweets_df = pd.merge(legitimate_users_tweets_df, legitimate_users_df, on=['UserID'])\n",
    "legitimate_users_tweets_df['TimeDelta(Days)'] = None\n",
    "\n",
    "for i in content_polluters_tweets_df.index:\n",
    "    tca = content_polluters_tweets_df.at[i, 'CreatedAt']\n",
    "    uca = content_polluters_tweets_df.at[i, 'UserCreatedAt']\n",
    "    content_polluters_tweets_df['TimeDelta(Days)'] = (datetime.datetime.strptime(tca, '%Y-%m-%d %H:%M:%S') - datetime.datetime.strptime(uca, '%Y-%m-%d %H:%M:%S')).days\n",
    "\n",
    "for i in legitimate_users_tweets_df.index:\n",
    "    tca = legitimate_users_tweets_df.at[i, 'CreatedAt']\n",
    "    uca = legitimate_users_tweets_df.at[i, 'UserCreatedAt']\n",
    "    legitimate_users_tweets_df['TimeDelta(Days)'] = (datetime.datetime.strptime(tca, '%Y-%m-%d %H:%M:%S') - datetime.datetime.strptime(uca, '%Y-%m-%d %H:%M:%S')).days\n",
    "    \n",
    "content_polluters_tweets_df.to_csv('../Data/content_polluters_tweets_pp.csv')\n",
    "legitimate_users_tweets_df.to_csv('../Data/legitimate_users_tweets_pp.csv')"
   ]
  }
 ],
 "metadata": {
  "interpreter": {
   "hash": "141244049137c618073c79afd0f9a58880087fb35bece71bcaf6735ec1c6597d"
  },
  "kernelspec": {
   "display_name": "Python 3.9.7 64-bit (windows store)",
   "name": "python3"
  },
  "language_info": {
   "codemirror_mode": {
    "name": "ipython",
    "version": 3
   },
   "file_extension": ".py",
   "mimetype": "text/x-python",
   "name": "python",
   "nbconvert_exporter": "python",
   "pygments_lexer": "ipython3",
   "version": "3.9.8"
  },
  "orig_nbformat": 4
 },
 "nbformat": 4,
 "nbformat_minor": 2
}
