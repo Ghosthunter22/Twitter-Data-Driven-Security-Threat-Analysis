{
 "cells": [
  {
   "cell_type": "markdown",
   "metadata": {},
   "source": [
    "# Tweet Collector\n",
    "### Collects tweets by using the `Twitter API`\n",
    "#### `Python 3.9.8`"
   ]
  },
  {
   "cell_type": "code",
   "execution_count": 3,
   "metadata": {},
   "outputs": [],
   "source": [
    "from time import sleep\n",
    "import os\n",
    "import tweepy as tw\n",
    "import csv"
   ]
  },
  {
   "cell_type": "markdown",
   "metadata": {},
   "source": [
    "`Twitter API` Keys [*Retrieve and replace keys from `API Keys.zip` using the password provided*]"
   ]
  },
  {
   "cell_type": "code",
   "execution_count": 4,
   "metadata": {},
   "outputs": [],
   "source": [
    "consumer_key = 'consumer_key'\n",
    "consumer_secret = 'consumer_secret'\n",
    "access_token = 'access_token'\n",
    "access_token_secret = 'access_token_secret'"
   ]
  },
  {
   "cell_type": "markdown",
   "metadata": {},
   "source": [
    "`Twitter API` Setup."
   ]
  },
  {
   "cell_type": "code",
   "execution_count": 5,
   "metadata": {},
   "outputs": [],
   "source": [
    "auth = tw.OAuthHandler(consumer_key, consumer_secret)\n",
    "auth.set_access_token(access_token, access_token_secret)\n",
    "api = tw.API(auth, wait_on_rate_limit=True, wait_on_rate_limit_notify=True)"
   ]
  },
  {
   "cell_type": "markdown",
   "metadata": {},
   "source": [
    "Select `United Kingdom` as query constraint."
   ]
  },
  {
   "cell_type": "code",
   "execution_count": 6,
   "metadata": {},
   "outputs": [],
   "source": [
    "places = api.geo_search(query=\"United Kingdom\", granularity=\"country\")\n",
    "place_id = places[2].id"
   ]
  },
  {
   "cell_type": "markdown",
   "metadata": {},
   "source": [
    "## File i/o Method definitions\n",
    ">### - `save_tweet_data(tweets)`:\n",
    ">Takes a list of strings of tweet json data cast to string (*`tweets`*), and saves them to `collected_tweet_data.txt` separated with a new line character (`\\n`).\n",
    "***\n",
    ">### - `remove_duplicate_tweets()`:\n",
    ">Reads through `collected_tweet_data.txt` and removes any duplicate tweet data."
   ]
  },
  {
   "cell_type": "code",
   "execution_count": 7,
   "metadata": {},
   "outputs": [],
   "source": [
    "def save_tweet_data(tweets):\n",
    "    if not os.path.exists('../Data/collected_tweet_data.txt'):\n",
    "       with open('../Data/collected_tweet_data.txt', 'w', encoding=\"utf-8\") as f:\n",
    "           pass     \n",
    "    with open('../Data/collected_tweet_data.txt', 'r', encoding=\"utf-8\") as f:\n",
    "        reader = csv.reader(f, delimiter='\\n')\n",
    "        existing = set()\n",
    "        for line in reader:\n",
    "            line_data = line[0]\n",
    "            existing.add(str(line_data[:100]))\n",
    "            \n",
    "    with open('../Data/collected_tweet_data.txt', 'a', encoding=\"utf-8\") as f:\n",
    "        for tweet in tweets:\n",
    "            if tweet.lang == 'en':\n",
    "                tweet_data = str(tweet._json)\n",
    "                if tweet_data[:100] not in existing:\n",
    "                    f.write(tweet_data)\n",
    "                    f.write('\\n')\n",
    "                    \n",
    "def remove_duplicate_tweets():\n",
    "    if os.path.exists('../Data/collected_tweet_data.txt'):\n",
    "        with open('../Data/collected_tweet_data.txt', 'r+', encoding=\"utf-8\") as f:\n",
    "            reader = csv.reader(f, delimiter='\\n')\n",
    "            existing = set()\n",
    "            tweet_data = []\n",
    "            \n",
    "            for line in reader:\n",
    "                line_data = line[0]\n",
    "                existing.add(str(line_data[:100]))\n",
    "                tweet_data.append(str(line_data))\n",
    "\n",
    "        with open('../Data/collected_tweet_data.txt', 'r+', encoding=\"utf-8\") as f:\n",
    "            for tweet in tweet_data:\n",
    "                if tweet[:100] in existing:\n",
    "                    existing.remove(tweet[:100])\n",
    "                    f.write(tweet)\n",
    "                    f.write('\\n')"
   ]
  },
  {
   "cell_type": "markdown",
   "metadata": {},
   "source": [
    "### `get_tweets`():\n",
    "Method to retrieve tweets and consequently save them."
   ]
  },
  {
   "cell_type": "code",
   "execution_count": 8,
   "metadata": {},
   "outputs": [],
   "source": [
    "def get_tweets():\n",
    "  # Retrieve tweets\n",
    "  try:\n",
    "    tweets = api.search(q=\"place:%s -filter:retweets\" % place_id)\n",
    "  except Exception as e:\n",
    "    print(e)\n",
    "  \n",
    "  # Save tweets\n",
    "  save_tweet_data(tweets)"
   ]
  },
  {
   "cell_type": "markdown",
   "metadata": {},
   "source": [
    "Run to start collecting tweets automatically within API Rate limits"
   ]
  },
  {
   "cell_type": "code",
   "execution_count": 9,
   "metadata": {},
   "outputs": [
    {
     "name": "stdout",
     "output_type": "stream",
     "text": [
      "Collection halted.\n"
     ]
    }
   ],
   "source": [
    "try:\n",
    "    while True:\n",
    "        get_tweets()\n",
    "        sleep(15)\n",
    "except KeyboardInterrupt:\n",
    "    print('Collection halted.')"
   ]
  }
 ],
 "metadata": {
  "interpreter": {
   "hash": "141244049137c618073c79afd0f9a58880087fb35bece71bcaf6735ec1c6597d"
  },
  "kernelspec": {
   "display_name": "Python 3.9.7 64-bit (windows store)",
   "name": "python3"
  },
  "language_info": {
   "codemirror_mode": {
    "name": "ipython",
    "version": 3
   },
   "file_extension": ".py",
   "mimetype": "text/x-python",
   "name": "python",
   "nbconvert_exporter": "python",
   "pygments_lexer": "ipython3",
   "version": "3.9.8"
  },
  "orig_nbformat": 4
 },
 "nbformat": 4,
 "nbformat_minor": 2
}
